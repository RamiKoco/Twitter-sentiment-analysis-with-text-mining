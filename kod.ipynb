{
  "cells": [
    {
      "cell_type": "code",
      "execution_count": null,
      "metadata": {
        "id": "Wk4jYdgv1XnN"
      },
      "outputs": [],
      "source": [
        "import numpy as np\n",
        "import pandas as pd\n",
        "import os\n",
        "import nltk\n",
        "from sklearn.metrics import confusion_matrix #karmaşıklık matrisi\n",
        "from sklearn.model_selection import GridSearchCV # Veriyi gridlere ayırmak\n",
        "from sklearn.model_selection import train_test_split # eğitim ve test verisi ayır\n",
        "from sklearn.feature_extraction.text import TfidfVectorizer # Destek vektör makineleri vektörlere ayırıcı\n",
        "from sklearn.model_selection import cross_val_score,cross_validate\n",
        "from sklearn.metrics import make_scorer, accuracy_score, f1_score, precision_score, recall_score\n",
        "from nltk.tokenize import word_tokenize # stemming için metini kelimelere ayırır\n",
        "from TurkishStemmer import TurkishStemmer # Kök bulma fonksiyonu (stemming)\n",
        "from sklearn.svm import SVC # Destek vektör algoritması\n",
        "import matplotlib.pyplot as plt # Grafik çizdirici\n",
        "import seaborn as sns; sns.set() # Grafik çizdirici"
      ]
    },
    {
      "cell_type": "markdown",
      "metadata": {
        "id": "N0S9DHlQ1XnT"
      },
      "source": [
        "Veri seti 3 duygu etiketinden oluşmaktadır. Bu etiketler nötr, negatif ve pozitif'tir. Buna göre, nötr ifadeler 0 ile, negatifler 1 ile ve pozitifler 2 ile etiketlenmiştir."
      ]
    },
    {
      "cell_type": "code",
      "execution_count": null,
      "metadata": {
        "id": "errHryw91XnX",
        "outputId": "1e845cc8-f3e4-4bb9-b287-5fde4d1f6139",
        "colab": {
          "base_uri": "https://localhost:8080/",
          "height": 206
        }
      },
      "outputs": [
        {
          "output_type": "execute_result",
          "data": {
            "text/plain": [
              "                                                  Tweet  Etiket\n",
              "3995                    Aynı şeyleri yapmaktan sıkıldım       1\n",
              "3996  Olacağı varsa oluyor ya hani, biteceği varsa d...       1\n",
              "3997    Çok şey istiyorum ama sonu hep fiyasko MUTSUZUM       1\n",
              "3998  Garip bir şekilde canım çok yanıyor moralim bozuk       1\n",
              "3999  1üm birazdan takipten çıkarıp hesabımı gizliye...       1"
            ],
            "text/html": [
              "\n",
              "  <div id=\"df-590c020a-c41a-4964-a664-ab01f78cfcc5\">\n",
              "    <div class=\"colab-df-container\">\n",
              "      <div>\n",
              "<style scoped>\n",
              "    .dataframe tbody tr th:only-of-type {\n",
              "        vertical-align: middle;\n",
              "    }\n",
              "\n",
              "    .dataframe tbody tr th {\n",
              "        vertical-align: top;\n",
              "    }\n",
              "\n",
              "    .dataframe thead th {\n",
              "        text-align: right;\n",
              "    }\n",
              "</style>\n",
              "<table border=\"1\" class=\"dataframe\">\n",
              "  <thead>\n",
              "    <tr style=\"text-align: right;\">\n",
              "      <th></th>\n",
              "      <th>Tweet</th>\n",
              "      <th>Etiket</th>\n",
              "    </tr>\n",
              "  </thead>\n",
              "  <tbody>\n",
              "    <tr>\n",
              "      <th>3995</th>\n",
              "      <td>Aynı şeyleri yapmaktan sıkıldım</td>\n",
              "      <td>1</td>\n",
              "    </tr>\n",
              "    <tr>\n",
              "      <th>3996</th>\n",
              "      <td>Olacağı varsa oluyor ya hani, biteceği varsa d...</td>\n",
              "      <td>1</td>\n",
              "    </tr>\n",
              "    <tr>\n",
              "      <th>3997</th>\n",
              "      <td>Çok şey istiyorum ama sonu hep fiyasko MUTSUZUM</td>\n",
              "      <td>1</td>\n",
              "    </tr>\n",
              "    <tr>\n",
              "      <th>3998</th>\n",
              "      <td>Garip bir şekilde canım çok yanıyor moralim bozuk</td>\n",
              "      <td>1</td>\n",
              "    </tr>\n",
              "    <tr>\n",
              "      <th>3999</th>\n",
              "      <td>1üm birazdan takipten çıkarıp hesabımı gizliye...</td>\n",
              "      <td>1</td>\n",
              "    </tr>\n",
              "  </tbody>\n",
              "</table>\n",
              "</div>\n",
              "      <button class=\"colab-df-convert\" onclick=\"convertToInteractive('df-590c020a-c41a-4964-a664-ab01f78cfcc5')\"\n",
              "              title=\"Convert this dataframe to an interactive table.\"\n",
              "              style=\"display:none;\">\n",
              "        \n",
              "  <svg xmlns=\"http://www.w3.org/2000/svg\" height=\"24px\"viewBox=\"0 0 24 24\"\n",
              "       width=\"24px\">\n",
              "    <path d=\"M0 0h24v24H0V0z\" fill=\"none\"/>\n",
              "    <path d=\"M18.56 5.44l.94 2.06.94-2.06 2.06-.94-2.06-.94-.94-2.06-.94 2.06-2.06.94zm-11 1L8.5 8.5l.94-2.06 2.06-.94-2.06-.94L8.5 2.5l-.94 2.06-2.06.94zm10 10l.94 2.06.94-2.06 2.06-.94-2.06-.94-.94-2.06-.94 2.06-2.06.94z\"/><path d=\"M17.41 7.96l-1.37-1.37c-.4-.4-.92-.59-1.43-.59-.52 0-1.04.2-1.43.59L10.3 9.45l-7.72 7.72c-.78.78-.78 2.05 0 2.83L4 21.41c.39.39.9.59 1.41.59.51 0 1.02-.2 1.41-.59l7.78-7.78 2.81-2.81c.8-.78.8-2.07 0-2.86zM5.41 20L4 18.59l7.72-7.72 1.47 1.35L5.41 20z\"/>\n",
              "  </svg>\n",
              "      </button>\n",
              "      \n",
              "  <style>\n",
              "    .colab-df-container {\n",
              "      display:flex;\n",
              "      flex-wrap:wrap;\n",
              "      gap: 12px;\n",
              "    }\n",
              "\n",
              "    .colab-df-convert {\n",
              "      background-color: #E8F0FE;\n",
              "      border: none;\n",
              "      border-radius: 50%;\n",
              "      cursor: pointer;\n",
              "      display: none;\n",
              "      fill: #1967D2;\n",
              "      height: 32px;\n",
              "      padding: 0 0 0 0;\n",
              "      width: 32px;\n",
              "    }\n",
              "\n",
              "    .colab-df-convert:hover {\n",
              "      background-color: #E2EBFA;\n",
              "      box-shadow: 0px 1px 2px rgba(60, 64, 67, 0.3), 0px 1px 3px 1px rgba(60, 64, 67, 0.15);\n",
              "      fill: #174EA6;\n",
              "    }\n",
              "\n",
              "    [theme=dark] .colab-df-convert {\n",
              "      background-color: #3B4455;\n",
              "      fill: #D2E3FC;\n",
              "    }\n",
              "\n",
              "    [theme=dark] .colab-df-convert:hover {\n",
              "      background-color: #434B5C;\n",
              "      box-shadow: 0px 1px 3px 1px rgba(0, 0, 0, 0.15);\n",
              "      filter: drop-shadow(0px 1px 2px rgba(0, 0, 0, 0.3));\n",
              "      fill: #FFFFFF;\n",
              "    }\n",
              "  </style>\n",
              "\n",
              "      <script>\n",
              "        const buttonEl =\n",
              "          document.querySelector('#df-590c020a-c41a-4964-a664-ab01f78cfcc5 button.colab-df-convert');\n",
              "        buttonEl.style.display =\n",
              "          google.colab.kernel.accessAllowed ? 'block' : 'none';\n",
              "\n",
              "        async function convertToInteractive(key) {\n",
              "          const element = document.querySelector('#df-590c020a-c41a-4964-a664-ab01f78cfcc5');\n",
              "          const dataTable =\n",
              "            await google.colab.kernel.invokeFunction('convertToInteractive',\n",
              "                                                     [key], {});\n",
              "          if (!dataTable) return;\n",
              "\n",
              "          const docLinkHtml = 'Like what you see? Visit the ' +\n",
              "            '<a target=\"_blank\" href=https://colab.research.google.com/notebooks/data_table.ipynb>data table notebook</a>'\n",
              "            + ' to learn more about interactive tables.';\n",
              "          element.innerHTML = '';\n",
              "          dataTable['output_type'] = 'display_data';\n",
              "          await google.colab.output.renderOutput(dataTable, element);\n",
              "          const docLink = document.createElement('div');\n",
              "          docLink.innerHTML = docLinkHtml;\n",
              "          element.appendChild(docLink);\n",
              "        }\n",
              "      </script>\n",
              "    </div>\n",
              "  </div>\n",
              "  "
            ]
          },
          "metadata": {},
          "execution_count": 5
        }
      ],
      "source": [
        "df=pd.read_excel('TurkceTwitler.xlsx')  \n",
        "df.tail()"
      ]
    },
    {
      "cell_type": "code",
      "execution_count": null,
      "metadata": {
        "id": "8CpBmzdF1Xnb",
        "outputId": "fef7fac5-8de3-4f89-8c3f-ff9b72e977b9",
        "colab": {
          "base_uri": "https://localhost:8080/"
        }
      },
      "outputs": [
        {
          "output_type": "stream",
          "name": "stdout",
          "text": [
            "<class 'pandas.core.frame.DataFrame'>\n",
            "RangeIndex: 4000 entries, 0 to 3999\n",
            "Data columns (total 2 columns):\n",
            " #   Column  Non-Null Count  Dtype \n",
            "---  ------  --------------  ----- \n",
            " 0   Tweet   3999 non-null   object\n",
            " 1   Etiket  4000 non-null   int64 \n",
            "dtypes: int64(1), object(1)\n",
            "memory usage: 62.6+ KB\n"
          ]
        }
      ],
      "source": [
        "df.info()"
      ]
    },
    {
      "cell_type": "markdown",
      "metadata": {
        "id": "XIa-fpHw1Xnd"
      },
      "source": [
        "Eksik veri var ise çıkartıyoruz."
      ]
    },
    {
      "cell_type": "code",
      "execution_count": null,
      "metadata": {
        "id": "wSkGdVAj1Xne"
      },
      "outputs": [],
      "source": [
        "df = df[df['Tweet'].notnull()]"
      ]
    },
    {
      "cell_type": "markdown",
      "metadata": {
        "id": "vmpd9I-D1Xnf"
      },
      "source": [
        "2399 adet negatif,\n",
        "800 adet pozitif,\n",
        "800 adet nötr kategoride verimiz bulunuyor."
      ]
    },
    {
      "cell_type": "code",
      "execution_count": null,
      "metadata": {
        "id": "NG0s-D1q1Xng",
        "outputId": "3dd1333b-ae13-424b-ca83-247a472da768",
        "colab": {
          "base_uri": "https://localhost:8080/"
        }
      },
      "outputs": [
        {
          "output_type": "execute_result",
          "data": {
            "text/plain": [
              "1    2399\n",
              "2     800\n",
              "0     800\n",
              "Name: Etiket, dtype: int64"
            ]
          },
          "metadata": {},
          "execution_count": 8
        }
      ],
      "source": [
        "df['Etiket'].value_counts()"
      ]
    },
    {
      "cell_type": "markdown",
      "metadata": {
        "id": "vHHyf__q1Xnh"
      },
      "source": [
        "Algoritmayı Uygulamadan önce verileri hazırlamak çok önemlidir.Bu işleme veri önişleme denir."
      ]
    },
    {
      "cell_type": "markdown",
      "metadata": {
        "id": "rYwoTEDq1Xni"
      },
      "source": [
        "Kendimizin oluşturduğu anlam ifade etmeyen kelimeleri (`ama`, `ve`, `ile`,...) stopTr.txt dosyamızdan alıyoruz."
      ]
    },
    {
      "cell_type": "code",
      "execution_count": null,
      "metadata": {
        "id": "gdF7aNE11Xnj"
      },
      "outputs": [],
      "source": [
        "with open(\"stopTr.txt\", \"r\") as d:\n",
        "    durak = d.read() "
      ]
    },
    {
      "cell_type": "markdown",
      "metadata": {
        "id": "gmH1499V1Xnk"
      },
      "source": [
        "Verilerimizden anlam ifade etmeyen kelimeleri çıkarmak için bir fonksiyon tanımladık."
      ]
    },
    {
      "cell_type": "code",
      "execution_count": null,
      "metadata": {
        "id": "VpC-pK6v1Xnl"
      },
      "outputs": [],
      "source": [
        "def metin_on_isleme(metin):\n",
        "    metin = [word for word in metin.split() if word not in durak]\n",
        "    return \" \".join(metin)"
      ]
    },
    {
      "cell_type": "markdown",
      "metadata": {
        "id": "YkfJSYRL1Xnm"
      },
      "source": [
        "Metin ön işleme fonksiyonumuzu kullanarak yeni twitlerimizi oluşturup, durak isimli bir sütun oluşturup kaydediyoruz."
      ]
    },
    {
      "cell_type": "code",
      "execution_count": null,
      "metadata": {
        "id": "L5T0Eh2q1Xnn",
        "outputId": "83556ed3-c574-4205-e116-e562fa947f2f",
        "colab": {
          "base_uri": "https://localhost:8080/",
          "height": 363
        }
      },
      "outputs": [
        {
          "output_type": "execute_result",
          "data": {
            "text/plain": [
              "                                                  Tweet  Etiket  \\\n",
              "3990           Bu ara hiç iyi uyuyamıyorum çok mutsuzum       1   \n",
              "3991  Çok yıprandım artık lisansı bitirip işsiz kald...       1   \n",
              "3992  Çok enteresan bir şey oldu. Kıvanç Tatlıtuğ'u ...       1   \n",
              "3993  Biraz seni özledim, biraz sohbetini, biraz ses...       1   \n",
              "3994  Ben sadece artık yalanlarınızdan yoruldum. Siz...       1   \n",
              "3995                    Aynı şeyleri yapmaktan sıkıldım       1   \n",
              "3996  Olacağı varsa oluyor ya hani, biteceği varsa d...       1   \n",
              "3997    Çok şey istiyorum ama sonu hep fiyasko MUTSUZUM       1   \n",
              "3998  Garip bir şekilde canım çok yanıyor moralim bozuk       1   \n",
              "3999  1üm birazdan takipten çıkarıp hesabımı gizliye...       1   \n",
              "\n",
              "                                                  durak  \n",
              "3990                              uyuyamıyorum mutsuzum  \n",
              "3991  yıprandım lisansı bitirip işsiz kaldığım evrey...  \n",
              "3992         enteresan oldu. Kıvanç Tatlıtuğ'u özledim.  \n",
              "3993                  Biraz özledim, sohbetini, sesini.  \n",
              "3994  yalanlarınızdan yoruldum. Sizi kötü hatırlamak...  \n",
              "3995                         şeyleri yapmaktan sıkıldım  \n",
              "3996  Olacağı varsa hani, biteceği varsa bitsin. YOR...  \n",
              "3997                         istiyorum fiyasko MUTSUZUM  \n",
              "3998                  Garip canım yanıyor moralim bozuk  \n",
              "3999  takipten çıkarıp hesabımı gizliye alıcağım faz...  "
            ],
            "text/html": [
              "\n",
              "  <div id=\"df-77fa6de8-8bd0-4e5f-9833-4f2637e7bfe2\">\n",
              "    <div class=\"colab-df-container\">\n",
              "      <div>\n",
              "<style scoped>\n",
              "    .dataframe tbody tr th:only-of-type {\n",
              "        vertical-align: middle;\n",
              "    }\n",
              "\n",
              "    .dataframe tbody tr th {\n",
              "        vertical-align: top;\n",
              "    }\n",
              "\n",
              "    .dataframe thead th {\n",
              "        text-align: right;\n",
              "    }\n",
              "</style>\n",
              "<table border=\"1\" class=\"dataframe\">\n",
              "  <thead>\n",
              "    <tr style=\"text-align: right;\">\n",
              "      <th></th>\n",
              "      <th>Tweet</th>\n",
              "      <th>Etiket</th>\n",
              "      <th>durak</th>\n",
              "    </tr>\n",
              "  </thead>\n",
              "  <tbody>\n",
              "    <tr>\n",
              "      <th>3990</th>\n",
              "      <td>Bu ara hiç iyi uyuyamıyorum çok mutsuzum</td>\n",
              "      <td>1</td>\n",
              "      <td>uyuyamıyorum mutsuzum</td>\n",
              "    </tr>\n",
              "    <tr>\n",
              "      <th>3991</th>\n",
              "      <td>Çok yıprandım artık lisansı bitirip işsiz kald...</td>\n",
              "      <td>1</td>\n",
              "      <td>yıprandım lisansı bitirip işsiz kaldığım evrey...</td>\n",
              "    </tr>\n",
              "    <tr>\n",
              "      <th>3992</th>\n",
              "      <td>Çok enteresan bir şey oldu. Kıvanç Tatlıtuğ'u ...</td>\n",
              "      <td>1</td>\n",
              "      <td>enteresan oldu. Kıvanç Tatlıtuğ'u özledim.</td>\n",
              "    </tr>\n",
              "    <tr>\n",
              "      <th>3993</th>\n",
              "      <td>Biraz seni özledim, biraz sohbetini, biraz ses...</td>\n",
              "      <td>1</td>\n",
              "      <td>Biraz özledim, sohbetini, sesini.</td>\n",
              "    </tr>\n",
              "    <tr>\n",
              "      <th>3994</th>\n",
              "      <td>Ben sadece artık yalanlarınızdan yoruldum. Siz...</td>\n",
              "      <td>1</td>\n",
              "      <td>yalanlarınızdan yoruldum. Sizi kötü hatırlamak...</td>\n",
              "    </tr>\n",
              "    <tr>\n",
              "      <th>3995</th>\n",
              "      <td>Aynı şeyleri yapmaktan sıkıldım</td>\n",
              "      <td>1</td>\n",
              "      <td>şeyleri yapmaktan sıkıldım</td>\n",
              "    </tr>\n",
              "    <tr>\n",
              "      <th>3996</th>\n",
              "      <td>Olacağı varsa oluyor ya hani, biteceği varsa d...</td>\n",
              "      <td>1</td>\n",
              "      <td>Olacağı varsa hani, biteceği varsa bitsin. YOR...</td>\n",
              "    </tr>\n",
              "    <tr>\n",
              "      <th>3997</th>\n",
              "      <td>Çok şey istiyorum ama sonu hep fiyasko MUTSUZUM</td>\n",
              "      <td>1</td>\n",
              "      <td>istiyorum fiyasko MUTSUZUM</td>\n",
              "    </tr>\n",
              "    <tr>\n",
              "      <th>3998</th>\n",
              "      <td>Garip bir şekilde canım çok yanıyor moralim bozuk</td>\n",
              "      <td>1</td>\n",
              "      <td>Garip canım yanıyor moralim bozuk</td>\n",
              "    </tr>\n",
              "    <tr>\n",
              "      <th>3999</th>\n",
              "      <td>1üm birazdan takipten çıkarıp hesabımı gizliye...</td>\n",
              "      <td>1</td>\n",
              "      <td>takipten çıkarıp hesabımı gizliye alıcağım faz...</td>\n",
              "    </tr>\n",
              "  </tbody>\n",
              "</table>\n",
              "</div>\n",
              "      <button class=\"colab-df-convert\" onclick=\"convertToInteractive('df-77fa6de8-8bd0-4e5f-9833-4f2637e7bfe2')\"\n",
              "              title=\"Convert this dataframe to an interactive table.\"\n",
              "              style=\"display:none;\">\n",
              "        \n",
              "  <svg xmlns=\"http://www.w3.org/2000/svg\" height=\"24px\"viewBox=\"0 0 24 24\"\n",
              "       width=\"24px\">\n",
              "    <path d=\"M0 0h24v24H0V0z\" fill=\"none\"/>\n",
              "    <path d=\"M18.56 5.44l.94 2.06.94-2.06 2.06-.94-2.06-.94-.94-2.06-.94 2.06-2.06.94zm-11 1L8.5 8.5l.94-2.06 2.06-.94-2.06-.94L8.5 2.5l-.94 2.06-2.06.94zm10 10l.94 2.06.94-2.06 2.06-.94-2.06-.94-.94-2.06-.94 2.06-2.06.94z\"/><path d=\"M17.41 7.96l-1.37-1.37c-.4-.4-.92-.59-1.43-.59-.52 0-1.04.2-1.43.59L10.3 9.45l-7.72 7.72c-.78.78-.78 2.05 0 2.83L4 21.41c.39.39.9.59 1.41.59.51 0 1.02-.2 1.41-.59l7.78-7.78 2.81-2.81c.8-.78.8-2.07 0-2.86zM5.41 20L4 18.59l7.72-7.72 1.47 1.35L5.41 20z\"/>\n",
              "  </svg>\n",
              "      </button>\n",
              "      \n",
              "  <style>\n",
              "    .colab-df-container {\n",
              "      display:flex;\n",
              "      flex-wrap:wrap;\n",
              "      gap: 12px;\n",
              "    }\n",
              "\n",
              "    .colab-df-convert {\n",
              "      background-color: #E8F0FE;\n",
              "      border: none;\n",
              "      border-radius: 50%;\n",
              "      cursor: pointer;\n",
              "      display: none;\n",
              "      fill: #1967D2;\n",
              "      height: 32px;\n",
              "      padding: 0 0 0 0;\n",
              "      width: 32px;\n",
              "    }\n",
              "\n",
              "    .colab-df-convert:hover {\n",
              "      background-color: #E2EBFA;\n",
              "      box-shadow: 0px 1px 2px rgba(60, 64, 67, 0.3), 0px 1px 3px 1px rgba(60, 64, 67, 0.15);\n",
              "      fill: #174EA6;\n",
              "    }\n",
              "\n",
              "    [theme=dark] .colab-df-convert {\n",
              "      background-color: #3B4455;\n",
              "      fill: #D2E3FC;\n",
              "    }\n",
              "\n",
              "    [theme=dark] .colab-df-convert:hover {\n",
              "      background-color: #434B5C;\n",
              "      box-shadow: 0px 1px 3px 1px rgba(0, 0, 0, 0.15);\n",
              "      filter: drop-shadow(0px 1px 2px rgba(0, 0, 0, 0.3));\n",
              "      fill: #FFFFFF;\n",
              "    }\n",
              "  </style>\n",
              "\n",
              "      <script>\n",
              "        const buttonEl =\n",
              "          document.querySelector('#df-77fa6de8-8bd0-4e5f-9833-4f2637e7bfe2 button.colab-df-convert');\n",
              "        buttonEl.style.display =\n",
              "          google.colab.kernel.accessAllowed ? 'block' : 'none';\n",
              "\n",
              "        async function convertToInteractive(key) {\n",
              "          const element = document.querySelector('#df-77fa6de8-8bd0-4e5f-9833-4f2637e7bfe2');\n",
              "          const dataTable =\n",
              "            await google.colab.kernel.invokeFunction('convertToInteractive',\n",
              "                                                     [key], {});\n",
              "          if (!dataTable) return;\n",
              "\n",
              "          const docLinkHtml = 'Like what you see? Visit the ' +\n",
              "            '<a target=\"_blank\" href=https://colab.research.google.com/notebooks/data_table.ipynb>data table notebook</a>'\n",
              "            + ' to learn more about interactive tables.';\n",
              "          element.innerHTML = '';\n",
              "          dataTable['output_type'] = 'display_data';\n",
              "          await google.colab.output.renderOutput(dataTable, element);\n",
              "          const docLink = document.createElement('div');\n",
              "          docLink.innerHTML = docLinkHtml;\n",
              "          element.appendChild(docLink);\n",
              "        }\n",
              "      </script>\n",
              "    </div>\n",
              "  </div>\n",
              "  "
            ]
          },
          "metadata": {},
          "execution_count": 11
        }
      ],
      "source": [
        "df['durak'] = df['Tweet'].apply(metin_on_isleme)\n",
        "df.tail(10)"
      ]
    },
    {
      "cell_type": "markdown",
      "metadata": {
        "id": "RcvgDVri1Xno"
      },
      "source": [
        "Stemming (Kök alma) algoritmaları , ekli kelimede bulunabilecek yaygın ve son eklerin bir listesini dikkate alarak kelimenin başlangıcını kesmeye çalışır. Biz bu algoritmalardan Türkçe için kullanılan TurkishStemmer kütüphanesini kullandık."
      ]
    },
    {
      "cell_type": "code",
      "execution_count": null,
      "metadata": {
        "id": "RpSLCp4f1Xnq"
      },
      "outputs": [],
      "source": [
        "stemmer = TurkishStemmer()"
      ]
    },
    {
      "cell_type": "markdown",
      "metadata": {
        "id": "lqfzOhKA1Xnq"
      },
      "source": [
        "Kökleri bulucak fonksiyonu tanımladık."
      ]
    },
    {
      "cell_type": "code",
      "execution_count": null,
      "metadata": {
        "id": "FTSp5wV91Xnr"
      },
      "outputs": [],
      "source": [
        "def kok_bul(metin):\n",
        "    kelimeler=word_tokenize(metin)\n",
        "    kokler=[]\n",
        "    for k in kelimeler:\n",
        "        kokler.append(stemmer.stem(k))\n",
        "        \n",
        "    return ' '.join(kokler)"
      ]
    },
    {
      "cell_type": "markdown",
      "metadata": {
        "id": "MC3lee2g1Xns"
      },
      "source": [
        "Durak sütunumuza kok_bul fonksiyonumuzu uygulayıp, yeni twitleri kokler sütununa kaydettik."
      ]
    },
    {
      "cell_type": "code",
      "execution_count": null,
      "metadata": {
        "id": "m7Qa1Evk1Xnu",
        "outputId": "a4881d44-00b0-4c49-dd2d-a93144f306d6",
        "colab": {
          "base_uri": "https://localhost:8080/",
          "height": 320
        }
      },
      "outputs": [
        {
          "output_type": "execute_result",
          "data": {
            "text/plain": [
              "                                                  Tweet  Etiket  \\\n",
              "3995                    Aynı şeyleri yapmaktan sıkıldım       1   \n",
              "3996  Olacağı varsa oluyor ya hani, biteceği varsa d...       1   \n",
              "3997    Çok şey istiyorum ama sonu hep fiyasko MUTSUZUM       1   \n",
              "3998  Garip bir şekilde canım çok yanıyor moralim bozuk       1   \n",
              "3999  1üm birazdan takipten çıkarıp hesabımı gizliye...       1   \n",
              "\n",
              "                                                  durak  \\\n",
              "3995                         şeyleri yapmaktan sıkıldım   \n",
              "3996  Olacağı varsa hani, biteceği varsa bitsin. YOR...   \n",
              "3997                         istiyorum fiyasko MUTSUZUM   \n",
              "3998                  Garip canım yanıyor moralim bozuk   \n",
              "3999  takipten çıkarıp hesabımı gizliye alıcağım faz...   \n",
              "\n",
              "                                              kokler  \n",
              "3995                                şey yapmak sıkıl  \n",
              "3996  Olacağı var hani , bitecek var bits . YORULDUM  \n",
              "3997                        istiyor fiyasko MUTSUZUM  \n",
              "3998                 Garip can yanıyor moralim bozuk  \n",
              "3999       takip çıkarıp hesap giz alıcak fazl çekme  "
            ],
            "text/html": [
              "\n",
              "  <div id=\"df-3069bcd7-7734-4dee-a822-d5433aa51c4e\">\n",
              "    <div class=\"colab-df-container\">\n",
              "      <div>\n",
              "<style scoped>\n",
              "    .dataframe tbody tr th:only-of-type {\n",
              "        vertical-align: middle;\n",
              "    }\n",
              "\n",
              "    .dataframe tbody tr th {\n",
              "        vertical-align: top;\n",
              "    }\n",
              "\n",
              "    .dataframe thead th {\n",
              "        text-align: right;\n",
              "    }\n",
              "</style>\n",
              "<table border=\"1\" class=\"dataframe\">\n",
              "  <thead>\n",
              "    <tr style=\"text-align: right;\">\n",
              "      <th></th>\n",
              "      <th>Tweet</th>\n",
              "      <th>Etiket</th>\n",
              "      <th>durak</th>\n",
              "      <th>kokler</th>\n",
              "    </tr>\n",
              "  </thead>\n",
              "  <tbody>\n",
              "    <tr>\n",
              "      <th>3995</th>\n",
              "      <td>Aynı şeyleri yapmaktan sıkıldım</td>\n",
              "      <td>1</td>\n",
              "      <td>şeyleri yapmaktan sıkıldım</td>\n",
              "      <td>şey yapmak sıkıl</td>\n",
              "    </tr>\n",
              "    <tr>\n",
              "      <th>3996</th>\n",
              "      <td>Olacağı varsa oluyor ya hani, biteceği varsa d...</td>\n",
              "      <td>1</td>\n",
              "      <td>Olacağı varsa hani, biteceği varsa bitsin. YOR...</td>\n",
              "      <td>Olacağı var hani , bitecek var bits . YORULDUM</td>\n",
              "    </tr>\n",
              "    <tr>\n",
              "      <th>3997</th>\n",
              "      <td>Çok şey istiyorum ama sonu hep fiyasko MUTSUZUM</td>\n",
              "      <td>1</td>\n",
              "      <td>istiyorum fiyasko MUTSUZUM</td>\n",
              "      <td>istiyor fiyasko MUTSUZUM</td>\n",
              "    </tr>\n",
              "    <tr>\n",
              "      <th>3998</th>\n",
              "      <td>Garip bir şekilde canım çok yanıyor moralim bozuk</td>\n",
              "      <td>1</td>\n",
              "      <td>Garip canım yanıyor moralim bozuk</td>\n",
              "      <td>Garip can yanıyor moralim bozuk</td>\n",
              "    </tr>\n",
              "    <tr>\n",
              "      <th>3999</th>\n",
              "      <td>1üm birazdan takipten çıkarıp hesabımı gizliye...</td>\n",
              "      <td>1</td>\n",
              "      <td>takipten çıkarıp hesabımı gizliye alıcağım faz...</td>\n",
              "      <td>takip çıkarıp hesap giz alıcak fazl çekme</td>\n",
              "    </tr>\n",
              "  </tbody>\n",
              "</table>\n",
              "</div>\n",
              "      <button class=\"colab-df-convert\" onclick=\"convertToInteractive('df-3069bcd7-7734-4dee-a822-d5433aa51c4e')\"\n",
              "              title=\"Convert this dataframe to an interactive table.\"\n",
              "              style=\"display:none;\">\n",
              "        \n",
              "  <svg xmlns=\"http://www.w3.org/2000/svg\" height=\"24px\"viewBox=\"0 0 24 24\"\n",
              "       width=\"24px\">\n",
              "    <path d=\"M0 0h24v24H0V0z\" fill=\"none\"/>\n",
              "    <path d=\"M18.56 5.44l.94 2.06.94-2.06 2.06-.94-2.06-.94-.94-2.06-.94 2.06-2.06.94zm-11 1L8.5 8.5l.94-2.06 2.06-.94-2.06-.94L8.5 2.5l-.94 2.06-2.06.94zm10 10l.94 2.06.94-2.06 2.06-.94-2.06-.94-.94-2.06-.94 2.06-2.06.94z\"/><path d=\"M17.41 7.96l-1.37-1.37c-.4-.4-.92-.59-1.43-.59-.52 0-1.04.2-1.43.59L10.3 9.45l-7.72 7.72c-.78.78-.78 2.05 0 2.83L4 21.41c.39.39.9.59 1.41.59.51 0 1.02-.2 1.41-.59l7.78-7.78 2.81-2.81c.8-.78.8-2.07 0-2.86zM5.41 20L4 18.59l7.72-7.72 1.47 1.35L5.41 20z\"/>\n",
              "  </svg>\n",
              "      </button>\n",
              "      \n",
              "  <style>\n",
              "    .colab-df-container {\n",
              "      display:flex;\n",
              "      flex-wrap:wrap;\n",
              "      gap: 12px;\n",
              "    }\n",
              "\n",
              "    .colab-df-convert {\n",
              "      background-color: #E8F0FE;\n",
              "      border: none;\n",
              "      border-radius: 50%;\n",
              "      cursor: pointer;\n",
              "      display: none;\n",
              "      fill: #1967D2;\n",
              "      height: 32px;\n",
              "      padding: 0 0 0 0;\n",
              "      width: 32px;\n",
              "    }\n",
              "\n",
              "    .colab-df-convert:hover {\n",
              "      background-color: #E2EBFA;\n",
              "      box-shadow: 0px 1px 2px rgba(60, 64, 67, 0.3), 0px 1px 3px 1px rgba(60, 64, 67, 0.15);\n",
              "      fill: #174EA6;\n",
              "    }\n",
              "\n",
              "    [theme=dark] .colab-df-convert {\n",
              "      background-color: #3B4455;\n",
              "      fill: #D2E3FC;\n",
              "    }\n",
              "\n",
              "    [theme=dark] .colab-df-convert:hover {\n",
              "      background-color: #434B5C;\n",
              "      box-shadow: 0px 1px 3px 1px rgba(0, 0, 0, 0.15);\n",
              "      filter: drop-shadow(0px 1px 2px rgba(0, 0, 0, 0.3));\n",
              "      fill: #FFFFFF;\n",
              "    }\n",
              "  </style>\n",
              "\n",
              "      <script>\n",
              "        const buttonEl =\n",
              "          document.querySelector('#df-3069bcd7-7734-4dee-a822-d5433aa51c4e button.colab-df-convert');\n",
              "        buttonEl.style.display =\n",
              "          google.colab.kernel.accessAllowed ? 'block' : 'none';\n",
              "\n",
              "        async function convertToInteractive(key) {\n",
              "          const element = document.querySelector('#df-3069bcd7-7734-4dee-a822-d5433aa51c4e');\n",
              "          const dataTable =\n",
              "            await google.colab.kernel.invokeFunction('convertToInteractive',\n",
              "                                                     [key], {});\n",
              "          if (!dataTable) return;\n",
              "\n",
              "          const docLinkHtml = 'Like what you see? Visit the ' +\n",
              "            '<a target=\"_blank\" href=https://colab.research.google.com/notebooks/data_table.ipynb>data table notebook</a>'\n",
              "            + ' to learn more about interactive tables.';\n",
              "          element.innerHTML = '';\n",
              "          dataTable['output_type'] = 'display_data';\n",
              "          await google.colab.output.renderOutput(dataTable, element);\n",
              "          const docLink = document.createElement('div');\n",
              "          docLink.innerHTML = docLinkHtml;\n",
              "          element.appendChild(docLink);\n",
              "        }\n",
              "      </script>\n",
              "    </div>\n",
              "  </div>\n",
              "  "
            ]
          },
          "metadata": {},
          "execution_count": 16
        }
      ],
      "source": [
        "df['kokler'] = df['durak'].apply(kok_bul)\n",
        "df.tail()"
      ]
    },
    {
      "cell_type": "markdown",
      "metadata": {
        "id": "fZ3HH5i31Xnv"
      },
      "source": [
        "Verimizi test ve eğitim verisi olarak ayırdık. Test verisi boyutunu %20 olarak ayarladık. (3200 veri eğitim, 800 veri test olarak ayarlandı.) "
      ]
    },
    {
      "cell_type": "code",
      "execution_count": null,
      "metadata": {
        "id": "FJF1tbqv1Xnv"
      },
      "outputs": [],
      "source": [
        "X_train, X_test, y_train, y_test = train_test_split(df['kokler'],df['Etiket'],test_size=0.2, random_state = 1)"
      ]
    },
    {
      "cell_type": "markdown",
      "metadata": {
        "id": "of5cxO8L1Xnw"
      },
      "source": [
        "Burada kelimeleri TF-IDF (Term Frequency - Inverse Document Frequency ) terim ağırlıklandırma yöntemini kullandık.TF-TDF, verideki bir kelimenin kuvvetini, o kelimeyi içeren belge sayısına ve belge sayısına göre hesaplayan bir ağırlıklandırma yöntemidir.Verilerdeki önemsiz değerler elimine edilir, önemli özellikler belirlenir ve sınıflandırma işlemi sırasında performansta artış sağlanır.Bir kullanıcının attığı tweetler incelenerek kişinin nelere ilgi duyduğu, yazılarında hangi konulara ağırlık verdiğini çıkarabiliriz."
      ]
    },
    {
      "cell_type": "code",
      "execution_count": null,
      "metadata": {
        "id": "tSekVbWw1Xnx"
      },
      "outputs": [],
      "source": [
        "vektorlestirici = TfidfVectorizer()\n",
        "vektorlestirici.fit(X_train)\n",
        "egitim_ozellikleri = vektorlestirici.transform(X_train)    \n",
        "test_ozellikleri = vektorlestirici.transform(X_test)"
      ]
    },
    {
      "cell_type": "markdown",
      "metadata": {
        "id": "hoZCW43P1Xnx"
      },
      "source": [
        "Destek Vektör Makinesi” (SVM), sınıflandırma veya regresyon problemleri için kullanılabilen denetimli bir makine öğrenmesi algoritmasıdır. Çoğunlukla sınıflandırma problemlerinde kullanılır."
      ]
    },
    {
      "cell_type": "markdown",
      "metadata": {
        "id": "BYeDmpo41Xny"
      },
      "source": [
        "Destek Vektör Makinelerinin birçok hiper parametresi vardır."
      ]
    },
    {
      "cell_type": "markdown",
      "metadata": {
        "id": "O8H-As6W1Xny"
      },
      "source": [
        "Hiper parametreleri GridSearchCV kullanarak eğitim verisi doğruluk skoruna göre tespit ettik."
      ]
    },
    {
      "cell_type": "code",
      "execution_count": null,
      "metadata": {
        "id": "hzOukaXe1Xnz"
      },
      "outputs": [],
      "source": [
        "param = {'C': [1, 10, 100, 1000], 'kernel': ['linear','rbf'],\n",
        "                'gamma': [0.1, 0.2, 0.3, 0.4, 0.5, 0.6, 0.7, 0.8, 0.9]}\n",
        "dogruluk_skorlari = make_scorer(accuracy_score)\n",
        "grid_nesne = GridSearchCV(SVC(), param, cv=10, scoring=dogruluk_skorlari)\n",
        "grid_nesne = grid_nesne.fit(egitim_ozellikleri, y_train)\n",
        "model = grid_nesne.best_estimator_"
      ]
    },
    {
      "cell_type": "markdown",
      "metadata": {
        "id": "EwcaSNB61Xnz"
      },
      "source": [
        "En iyi modelin doğruluğu:"
      ]
    },
    {
      "cell_type": "code",
      "execution_count": null,
      "metadata": {
        "id": "V9ytpewa1Xn0",
        "outputId": "81d2089d-d3d2-4733-ced9-d7475f900222",
        "colab": {
          "base_uri": "https://localhost:8080/"
        }
      },
      "outputs": [
        {
          "output_type": "execute_result",
          "data": {
            "text/plain": [
              "0.9612362852664577"
            ]
          },
          "metadata": {},
          "execution_count": 20
        }
      ],
      "source": [
        "dogruluk = grid_nesne.best_score_\n",
        "dogruluk"
      ]
    },
    {
      "cell_type": "markdown",
      "metadata": {
        "id": "BhIaTIqk1Xn1"
      },
      "source": [
        "Eğitim verisini bulduğumuz modele göre işleyebilriz. (Bulunan en iyi hiper parametreler.)"
      ]
    },
    {
      "cell_type": "code",
      "execution_count": null,
      "metadata": {
        "id": "mK_6ktmx1Xn1",
        "outputId": "f1b29144-0f41-48e6-dd01-a294e6ee2662",
        "colab": {
          "base_uri": "https://localhost:8080/"
        }
      },
      "outputs": [
        {
          "output_type": "execute_result",
          "data": {
            "text/plain": [
              "SVC(C=10, gamma=0.1)"
            ]
          },
          "metadata": {},
          "execution_count": 21
        }
      ],
      "source": [
        "model.fit(egitim_ozellikleri, y_train)"
      ]
    },
    {
      "cell_type": "markdown",
      "metadata": {
        "id": "zfSiE8mo1Xn2"
      },
      "source": [
        "Test verisindeki x değişkenini kullanarak model üzerinden y değişkenini tahmin ediyoruz."
      ]
    },
    {
      "cell_type": "code",
      "execution_count": null,
      "metadata": {
        "id": "1yWkkdvc1Xn2"
      },
      "outputs": [],
      "source": [
        "y_pred = model.predict(test_ozellikleri)"
      ]
    },
    {
      "cell_type": "code",
      "execution_count": null,
      "metadata": {
        "id": "stf-k_yM1Xn2",
        "outputId": "ec40f2ca-a4ba-489f-b3d9-ca54696aaeb9",
        "colab": {
          "base_uri": "https://localhost:8080/"
        }
      },
      "outputs": [
        {
          "output_type": "stream",
          "name": "stdout",
          "text": [
            "Doğruluk Skoru: 0.96\n"
          ]
        }
      ],
      "source": [
        "print(\"Doğruluk Skoru: {:.2f}\".format(accuracy_score(y_test, y_pred)))"
      ]
    },
    {
      "cell_type": "markdown",
      "metadata": {
        "id": "i0Q6f9Hy1Xn3"
      },
      "source": [
        "Görüldüğü gibi modelin tahmin gücü %96 olarak elde ettik."
      ]
    },
    {
      "cell_type": "markdown",
      "metadata": {
        "id": "EVGjycbH1Xn4"
      },
      "source": [
        "Confusion matrixini çizdiriyoruz."
      ]
    },
    {
      "cell_type": "code",
      "execution_count": null,
      "metadata": {
        "id": "AJHVDpOy1Xn4",
        "outputId": "f26adb89-6bb7-4c80-8bbe-0cc09774af67",
        "colab": {
          "base_uri": "https://localhost:8080/",
          "height": 302
        }
      },
      "outputs": [
        {
          "output_type": "execute_result",
          "data": {
            "text/plain": [
              "Text(89.18, 0.5, 'Tahmin Değerler')"
            ]
          },
          "metadata": {},
          "execution_count": 24
        },
        {
          "output_type": "display_data",
          "data": {
            "text/plain": [
              "<Figure size 432x288 with 1 Axes>"
            ],
            "image/png": "[encoded data removed]"
          },
          "metadata": {}
        }
      ],
      "source": [
        "cm = confusion_matrix(y_test, y_pred)\n",
        "sns.heatmap(cm.T, square=True, annot=True, fmt='d', cbar=False)\n",
        "plt.xlabel('Gerçek Değerler')\n",
        "plt.ylabel('Tahmin Değerler')"
      ]
    }
  ],
  "metadata": {
    "kernelspec": {
      "display_name": "Python 3",
      "language": "python",
      "name": "python3"
    },
    "language_info": {
      "codemirror_mode": {
        "name": "ipython",
        "version": 3
      },
      "file_extension": ".py",
      "mimetype": "text/x-python",
      "name": "python",
      "nbconvert_exporter": "python",
      "pygments_lexer": "ipython3",
      "version": "3.8.3"
    },
    "colab": {
      "name": "kod_(1).ipynb",
      "provenance": [],
      "collapsed_sections": [],
      "toc_visible": true
    }
  },
  "nbformat": 4,
  "nbformat_minor": 0
}